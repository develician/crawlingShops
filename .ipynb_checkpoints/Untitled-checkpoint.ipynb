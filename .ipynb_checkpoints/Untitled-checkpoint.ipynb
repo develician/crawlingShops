{
 "cells": [
  {
   "cell_type": "code",
   "execution_count": 6,
   "metadata": {},
   "outputs": [
    {
     "data": {
      "text/plain": [
       "<li class=\"listItem\">\n",
       "<div class=\"articleImg\">\n",
       "<a href=\"/?m=news&amp;uid=26101\"><img alt=\"10월 1주차 우신사 판매 랭킹 : 기존 아이템과 신규 아이템 간 팽팽한 자리다툼\" class=\"lazy-load-image\" data-original=\"//image.musinsa.com/mfile_s01/2018/10/02/2c5eca929b4eb7a8ab5a9306207436c5.jpg.0\"/></a>\n",
       "</div>\n",
       "<div class=\"articleInfo info\">\n",
       "<a href=\"/?m=news&amp;uid=26101\">\n",
       "<p class=\"title mu-icon\">\n",
       "                패션 | 10월 1주차 우신사 판매 랭킹 : 기존 아이템과 신규 아이템 간 팽팽한 자리다툼..             </p>\n",
       "</a>\n",
       "<div class=\"subInfo info\">\n",
       "<span class=\"date division\">1일 전</span><span class=\"view\"><span class=\"viewCnt\">692</span></span>\n",
       "<span class=\"getBrandTitle\"><b class=\"rev-division\"><a href=\"/?m=news&amp;brand=5252byoioi\"><span class=\"brand\">5252 바이 오아이오아이</span></a> 외</b></span>\n",
       "</div>\n",
       "<div class=\"description\">\n",
       "<a href=\"/?m=news&amp;uid=26101\"><p>\n",
       "                단숨에 1위로 치고 올라온 5252 바이 오아이오아이의 로고 포인트 후드 집업새롭게 진입한 아이템과 터줏대감 같은 인기 아이템 간 팽팽한 자리다툼지난 한 주간 우신사 스토어에서 가장 많이 판매된 10개의 아이템을 만나보자. 5252 바이 오아이오아이(5252 BY OIOI)의 시그너처 후디가 주춤하는 듯 하더니 ‘오아이오...\n",
       "            </p></a>\n",
       "</div>\n",
       "</div>\n",
       "</li>"
      ]
     },
     "execution_count": 6,
     "metadata": {},
     "output_type": "execute_result"
    }
   ],
   "source": [
    "import requests\n",
    "from bs4 import BeautifulSoup as bs\n",
    "\n",
    "musinsa_html = bs(requests.get(\"https://www.musinsa.com/\").text, \"html.parser\")\n",
    "musinsa_news = musinsa_html.find(\"div\", {\"class\": \"content-wrapper wrapper tab news\"})\n",
    "musinsa_news_article_list = musinsa_news.find_all(\"li\", {\"class\": \"listItem\"})\n",
    "articles = []\n",
    "# musinsa_news_article_list[6]\n",
    "for article in musinsa_news_article_list:\n",
    "    news_article = {}\n",
    "#     print(article)\n",
    "    news_article[\"articleImg\"] = (\n",
    "        article.find(\"div\", {\"class\": \"articleImg\"})\n",
    "        .find(\"a\")\n",
    "        .find(\"img\")\n",
    "        .get(\"src\")\n",
    "    )\n",
    "    print(\n",
    "        article.find(\"div\", {\"class\": \"articleInfo info\"})\n",
    "        .find(\"a\")\n",
    "        .find(\"p\", {\"class\": \"title\"})\n",
    "    )"
   ]
  },
  {
   "cell_type": "code",
   "execution_count": null,
   "metadata": {},
   "outputs": [],
   "source": []
  }
 ],
 "metadata": {
  "kernelspec": {
   "display_name": "Python 3",
   "language": "python",
   "name": "python3"
  },
  "language_info": {
   "codemirror_mode": {
    "name": "ipython",
    "version": 3
   },
   "file_extension": ".py",
   "mimetype": "text/x-python",
   "name": "python",
   "nbconvert_exporter": "python",
   "pygments_lexer": "ipython3",
   "version": "3.6.5"
  }
 },
 "nbformat": 4,
 "nbformat_minor": 2
}
