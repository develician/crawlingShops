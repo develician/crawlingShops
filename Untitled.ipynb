{
 "cells": [
  {
   "cell_type": "code",
   "execution_count": 19,
   "metadata": {},
   "outputs": [
    {
     "name": "stdout",
     "output_type": "stream",
     "text": [
      "[{'articleImg': 'https://image.musinsa.com/mfile_s01/2018/10/02/11a8acac501b1b7a5dcf9ecac6bccf17.jpg', 'title': '패션 | 클로테이트(CLOTATE)의 스웨트셔츠 9,900원! 131차 클리어런스 세일'}, {'articleImg': 'https://image.musinsa.com/mfile_s01/2018/10/02/894dd97c8ccc8cf84f0cc0b8efdf879e.jpg', 'title': '패션 | 라이풀(LIFUL)이 4차 딜리버리로 돌아왔다! 3'}, {'articleImg': 'https://image.musinsa.com/mfile_s01/2018/10/02/4d76aa02381d34711442cfef99232c90.jpg', 'title': '패션 | 살론 드 욘(SALONDEYOHN)의 클래식한 가을 아이템! 1'}, {'articleImg': 'https://image.musinsa.com/mfile_s01/2018/10/02/6b55f90379b95e6e95b7f50fe811de53.jpg', 'title': '신발 | 아디다스(ADIDAS) 이지 부스트 700의 새로운 컬러 1'}, {'articleImg': 'https://image.musinsa.com/mfile_s01/2018/10/02/4ac194f7487ab4bcfb99ef37856e73fb.jpg', 'title': '신발 | 나이키(NIKE), 주얼 스우시 에어 포스 1에 새로운 컬러 추가'}, {'articleImg': 'https://image.musinsa.com/mfile_s01/2018/10/02/3624e031c1db225c5c68425c29952a09.jpg', 'title': '패션 | 무신사 투표 : 매일 매일 입고 싶은 팬츠! 10'}, {'articleImg': 'https://image.musinsa.com/mfile_s01/2018/10/02/2c5eca929b4eb7a8ab5a9306207436c5.jpg', 'title': '패션 | 10월 1주차 우신사 판매 랭킹 : 기존 아이템과 신규 아이템 간 팽팽한 자리다툼..'}, {'articleImg': 'https://image.musinsa.com/mfile_s01/2018/10/02/8c74ee0d80122d1777cb191402f4efd3.jpg', 'title': '패션 | 똑똑똑! 무신사의 문을 두드리는 일곱 가지 신규 브랜드 1'}, {'articleImg': 'https://image.musinsa.com/mfile_s01/2018/10/02/27bb92bc87e6565a80c4e0e112b9d89d.jpg', 'title': '패션 | 2018 팬츠 컬렉션 오픈! 3'}, {'articleImg': 'https://image.musinsa.com/mfile_s01/2018/10/02/eb3f5c06829a66ced5f930bc8aeb0d5f.jpg', 'title': '패션 | 분위기 있는 캐주얼 아이템을 선보인 프리즘웍스(FRIZMWORKS)의 4차 F/W.. 2'}]\n"
     ]
    }
   ],
   "source": [
    "import requests\n",
    "from bs4 import BeautifulSoup as bs\n",
    "\n",
    "musinsa_html = bs(requests.get(\"https://www.musinsa.com/\").text, \"html.parser\")\n",
    "musinsa_news = musinsa_html.find(\"div\", {\"class\": \"content-wrapper wrapper tab news\"})\n",
    "musinsa_news_article_list = musinsa_news.find_all(\"li\", {\"class\": \"listItem\"})\n",
    "articles = []\n",
    "for article in musinsa_news_article_list:\n",
    "    news_article = {}\n",
    "    data_original = 'https:' + (\n",
    "        article.find(\"div\", {\"class\": \"articleImg\"})\n",
    "        .find(\"a\")\n",
    "        .find(\"img\")\n",
    "        .get(\"data-original\")\n",
    "    ).split('.0')[0]\n",
    "    news_article[\"articleImg\"] = data_original\n",
    "    news_article[\"title\"] = str.strip(article.find(\"div\", {\"class\": \"articleInfo info\"})\n",
    "        .find(\"a\")\n",
    "        .find(\"p\", {\"class\": \"title\"})\n",
    "        .text)\n",
    "    articles.append(news_article)"
   ]
  },
  {
   "cell_type": "code",
   "execution_count": null,
   "metadata": {},
   "outputs": [],
   "source": []
  }
 ],
 "metadata": {
  "kernelspec": {
   "display_name": "Python 3",
   "language": "python",
   "name": "python3"
  },
  "language_info": {
   "codemirror_mode": {
    "name": "ipython",
    "version": 3
   },
   "file_extension": ".py",
   "mimetype": "text/x-python",
   "name": "python",
   "nbconvert_exporter": "python",
   "pygments_lexer": "ipython3",
   "version": "3.6.5"
  }
 },
 "nbformat": 4,
 "nbformat_minor": 2
}
